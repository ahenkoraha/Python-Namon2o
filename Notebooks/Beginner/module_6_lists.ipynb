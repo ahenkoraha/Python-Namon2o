{
 "cells": [
  {
   "cell_type": "markdown",
   "id": "0f842c87",
   "metadata": {},
   "source": [
    "<style>\n",
    "    table, th, td {\n",
    "        border: none;\n",
    "        border-collapse: collapse;\n",
    "    }\n",
    "</style>\n",
    "<table align=\"center\">\n",
    "  <td align=\"center\">\n",
    "        <img height=\"80\" src=\"../../images/Python Namon2o.png\" style=\"padding-bottom:5px;\" />\n",
    "  </td>\n",
    "  <td align=\"center\"><a target=\"_blank\" href=\"https://colab.research.google.com/github/ahenkoraha/Python-Namon2o/blob/main/Notebooks/Beginner/module_6_lists.ipynb\">\n",
    "        <img height=\"40\" src=\"https://i.ibb.co/2P3SLwK/colab.png\"  style=\"padding-bottom:5px;\" />Run in Google Colab</a></td>\n",
    "\n",
    "</table>"
   ]
  },
  {
   "cell_type": "markdown",
   "id": "6826331e",
   "metadata": {},
   "source": [
    "### 📘 Module 6: Lists for Daily Life - From Supermarket to Memory\n",
    "\n",
    "#### 👋 Welcome to Python Namon2o!\n",
    "> A beginner-friendly Python tutorial with examples grounded in Ghanaian/African culture. \n",
    "In this module, you’ll learn how to store multiple values using lists — just like how you’d create a shopping list or take class attendance.\n",
    "\n",
    "\n",
    "#### 🎯 Objectives\n",
    "By the end of this module, you will:\n",
    "- Understand what a list is and how to create one \n",
    "- Learn how to access and modify list items\n",
    "- Use lists with loops to process data\n",
    "- Apply lists in everyday Ghanaian scenarios\n",
    "\n",
    "---"
   ]
  },
  {
   "cell_type": "markdown",
   "id": "da9869f1",
   "metadata": {},
   "source": [
    "![Supermarket](../../images/supermarker_gh.png)"
   ]
  },
  {
   "cell_type": "code",
   "execution_count": null,
   "id": "4cdb1dbe",
   "metadata": {},
   "outputs": [],
   "source": [
    "#run this code cell. use the play button or shift+enter\n",
    "print(\"Akwaaba! Welcome to our Namon20 Supermarket of code!\")"
   ]
  },
  {
   "cell_type": "markdown",
   "id": "dfaa2dbe",
   "metadata": {},
   "source": [
    "#### 🔑Key Concept: What is a List?\n",
    ">A list is a collection of items stored in a single variable. It’s like a shopping list where you can keep track of multiple items at once. Think of it as a container (basket) that holds multiple values, which can be of different types (numbers, strings, etc.).\n",
    "```python\n",
    "# Example of a list\n",
    "shopping_list = [\"rice\", \"beans\", \"tomatoes\", \"onions\"]\n",
    "\n",
    "```\n",
    ">Accessing items in a list is like checking off items on your shopping list. You can refer to each item by its index (position) in the list, starting from 0.\n",
    "```python\n",
    "# Accessing items in a list\n",
    "print(shopping_list[0])  # Output: rice"
   ]
  },
  {
   "cell_type": "code",
   "execution_count": null,
   "id": "d2835a47",
   "metadata": {},
   "outputs": [],
   "source": [
    "#run this code cell. use the play button or shift+enter\n",
    "shopping_list = [\"rice\", \"oil\", \"hand wash\", \"jam\", \"gem biscuit\"]\n",
    "print(\"Here's the shopping list:\", shopping_list)\n",
    "print(\"Here's the first item in the shopping list:\", shopping_list[0])"
   ]
  },
  {
   "cell_type": "markdown",
   "id": "bfc8c189",
   "metadata": {},
   "source": [
    ">Modifying items in a list is like changing an item on your shopping list. You can update, add, or remove items as needed.\n",
    "```python\n",
    "# Modifying items in a list\n",
    "shopping_list[1] = \"groundnuts\"  # Change oil to groundnuts\n",
    "shopping_list.append(\"fish\")  # Add fish to the list\n",
    "# Removing an item from the list\n",
    "shopping_list.remove(\"jam\")  # Remove jam from the list\n",
    "```"
   ]
  },
  {
   "cell_type": "code",
   "execution_count": null,
   "id": "46c25704",
   "metadata": {},
   "outputs": [],
   "source": [
    "#run this code cell. use the play button or shift+enter\n",
    "shopping_list[2]= \"pepper\"  # Change hand wash to pepper\n",
    "shopping_list.append(\"fish\")  # Add fish to the list\n",
    "shopping_list.remove(\"jam\")  # Remove jam from the list\n",
    "print(\"Updated shopping list:\", shopping_list)"
   ]
  },
  {
   "cell_type": "markdown",
   "id": "f0e33c61",
   "metadata": {},
   "source": [
    ">Looping through a list is like going through each item on your shopping list to check them off. You can use a loop to process each item in the list.\n",
    "```python   \n",
    "# Looping through a list\n",
    "for item in shopping_list:\n",
    "    print(item)\n",
    "```\n"
   ]
  },
  {
   "cell_type": "code",
   "execution_count": null,
   "id": "a7042f0e",
   "metadata": {},
   "outputs": [],
   "source": [
    "#run this code cell. use the play button or shift+enter\n",
    "#Looping through a list\n",
    "for item in shopping_list:\n",
    "    print(\"Buying:\",item)"
   ]
  },
  {
   "cell_type": "markdown",
   "id": "60927be7",
   "metadata": {},
   "source": [
    "> Recall in Module 4, we learned about the `range` function, which generates a sequence of numbers. The range functions creates a list of numbers that you can use in loops. We can also use the list created by the `range` function to loop through a list by its indices.\n",
    "```python\n",
    "# Looping through the first 3 items in a list using range\n",
    "for i in range(3):\n",
    "    print(f\"Item {i+1}: {shopping_list[i]}\")\n",
    "```"
   ]
  },
  {
   "cell_type": "code",
   "execution_count": null,
   "id": "205e3a26",
   "metadata": {},
   "outputs": [],
   "source": [
    "#run this code cell. use the play button or shift+enter\n",
    "#looping through the first 3 items of the shopping list using range\n",
    "for i in range(3):\n",
    "    print(f\"Item {i+1}: {shopping_list[i]}\")"
   ]
  },
  {
   "cell_type": "markdown",
   "id": "706845ed",
   "metadata": {},
   "source": [
    "---\n",
    "🧪 Try This:\n",
    "1. Create a list the town you know in Ghana.\n",
    "2. Print each items using a loop.\n",
    "3. Repalce one of the items and print the updated list.\n"
   ]
  },
  {
   "cell_type": "code",
   "execution_count": null,
   "id": "ba091b2e",
   "metadata": {},
   "outputs": [],
   "source": [
    "#try here"
   ]
  },
  {
   "cell_type": "markdown",
   "id": "46682f8c",
   "metadata": {},
   "source": [
    "---\n",
    "\n",
    "#### 📝Activity: Create a TODO list\n",
    ">Let's create a simple TODO list to manage our daily tasks.\n",
    "\n",
    "🧪 Try This:\n",
    "- Ask the user to enter 5 tasks they want to complete today.\n",
    "- Store these tasks in a list.\n",
    "- Print each task \n"
   ]
  },
  {
   "cell_type": "code",
   "execution_count": null,
   "id": "13fb8c4e",
   "metadata": {},
   "outputs": [],
   "source": [
    "# TODO: Create a TODO list"
   ]
  },
  {
   "cell_type": "markdown",
   "id": "a387785b",
   "metadata": {},
   "source": [
    "---\n",
    "#### 📝 Summary:\n",
    "In this module, you\n",
    "- learned that lists help and organize items in a single variable\n",
    "- learned how to access items in a list using indices\n",
    "- learned how to modify items in a list\n",
    "- learned how to loop through a list using a `for` loop and the `range` function"
   ]
  },
  {
   "cell_type": "markdown",
   "id": "89e7655a",
   "metadata": {},
   "source": [
    "--- \n",
    "#### 📚 Additional Resources:\n",
    "- [Python Lists Documentation](https://docs.python.org/3/tutorial/datastructures.html#more-on-lists)\n",
    "- [W3Schools Python Lists](https://www.w3schools.com/python/python_lists.asp)\n",
    "- [Real Python: Python Lists](https://realpython.com/python-lists-tuples/)"
   ]
  },
  {
   "cell_type": "markdown",
   "id": "a31be32f",
   "metadata": {},
   "source": [
    "---\n",
    "#### 🧠 Reflection Question:\n",
    "what lists do you use in your daily life (e.g., chores, songs, markets)? How might storing them in code help automate something for you?\n",
    "\n",
    "> Next: Let's complete a mini project"
   ]
  }
 ],
 "metadata": {
  "language_info": {
   "name": "python"
  }
 },
 "nbformat": 4,
 "nbformat_minor": 5
}
