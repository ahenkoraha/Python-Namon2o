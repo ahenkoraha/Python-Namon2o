{
 "cells": [
  {
   "cell_type": "markdown",
   "id": "8a465e21",
   "metadata": {},
   "source": [
    "<style>\n",
    "    table, th, td {\n",
    "        border: none;\n",
    "        border-collapse: collapse;\n",
    "    }\n",
    "</style>\n",
    "<table align=\"center\">\n",
    "  <td align=\"center\">\n",
    "        <img height=\"80\" src=\"../../images/Python Namon2o.png\" style=\"padding-bottom:5px;\" />\n",
    "  </td>\n",
    "  <td align=\"center\"><a target=\"_blank\" href=\"https://colab.research.google.com/github/ahenkoraha/Python-Namon2o/blob/main/Notebooks/Beginner/module_5_functions.ipynb\">\n",
    "        <img height=\"40\" src=\"https://i.ibb.co/2P3SLwK/colab.png\"  style=\"padding-bottom:5px;\" />Run in Google Colab</a></td>\n",
    "\n",
    "</table>"
   ]
  },
  {
   "cell_type": "markdown",
   "id": "3e818080",
   "metadata": {},
   "source": [
    "### 📘 Module 5: Functions in the Kitchen - Ghanaian Cooking as Code\n",
    "\n",
    "#### 👋 Welcome to Python Namon2o!\n",
    "> A beginner-friendly Python tutorial with examples grounded in Ghanaian/African culture. \n",
    "In this module, you'll learn about functions - reusable blocks of code that perform specific tasks, just like recipes in the kitchen.\n",
    "We'll explore this through a familiar and flavourful lens: preparing a delicious Ghanaian dish like jollof rice or groundnut soup.\n",
    "\n",
    "#### 🎯 Objectives\n",
    "By the end of this module, you will:\n",
    "- Understand what a function is and why it's useful \n",
    "- Learn about built-in functions in Python\n",
    "- Learn how to define and call your own functions\n",
    "- Practice using parameters and return values in functions\n",
    "- Understand how functions affect the flow of code execution\n",
    "- Apply functions to automate repetitive tasks in cooking\n",
    "\n",
    "---"
   ]
  },
  {
   "cell_type": "code",
   "execution_count": null,
   "id": "28699768",
   "metadata": {},
   "outputs": [],
   "source": [
    "#run this code cell. use the play button or shift+enter\n",
    "print(\"Akwaaba! Welcome to our kitchen of code!\")"
   ]
  },
  {
   "cell_type": "markdown",
   "id": "04fab7b1",
   "metadata": {},
   "source": [
    "#### 🔑Key Concept: What is a Function?\n",
    ">A function is a named block of code that performs a specific task. It allows you to group related code together, making it reusable and easier to manage. You define it once and can reuse it anywhere and as many times as needed in your code. Functions help break down complex problems into smaller, manageable pieces, just like following a recipe in the kitchen. It reduces repetition and makes your code cleaner, more organized, and easier to read."
   ]
  },
  {
   "cell_type": "markdown",
   "id": "836a5d3b",
   "metadata": {},
   "source": [
    "#### 🧾 Everyday Analogy:\n",
    "Think of a function like a recipe in the kitchen. When you want to make jollof rice, waakye or groundnut soup, you follow a specific set of steps (the recipe) like \"boil rice\" or \"blend tomatoes\" to achieve the final dish. You can use the same recipe multiple times without rewriting it each time. Similarly, in programming, a function allows you to define a set of instructions once and use it whenever needed."
   ]
  },
  {
   "cell_type": "markdown",
   "id": "5249eb28",
   "metadata": {},
   "source": [
    "#### 🔍 Built-in Functions in Python\n",
    ">Python comes with many built-in functions that you can use right away. These functions perform common tasks and save you time. For example, \n",
    "- the `print()` function displays text on the screen\n",
    "- the `len()` function returns the length of a string or list.\n",
    "- the `input()` function allows you to get user input.\n",
    "- the `type()` function tells you the data type of a variable.\n",
    "- the `range()` function generates a sequence of numbers."
   ]
  },
  {
   "cell_type": "code",
   "execution_count": null,
   "id": "174d3f62",
   "metadata": {},
   "outputs": [],
   "source": [
    "#run this code cell. use the play button or shift+enter\n",
    "#using print() to display a greeting\n",
    "name = \"Adwoa\"\n",
    "greeting = \"Hello, \" + name + \"!\"\n",
    "print(greeting)\n",
    "\n",
    "#using len() to find the length of a string\n",
    "message = \"Welcome to Python Namon2o!\"\n",
    "message_length = len(message)\n",
    "print(\"The length of the message is:\", message_length)\n",
    "\n",
    "#using input() to get user input\n",
    "user_name = input(\"What is your name? \")\n",
    "print(\"Nice to meet you, \" + user_name + \"!\")\n",
    "\n",
    "#using type() to check the data type of a variable\n",
    "age = 25    # an integer\n",
    "age_type = type(age)\n",
    "print(\"The data type of age is:\", age_type)\n",
    "\n",
    "#using range() to generate a sequence of numbers\n",
    "for number in range(1, 6):\n",
    "    print(\"Number:\", number)    \n"
   ]
  },
  {
   "cell_type": "markdown",
   "id": "a57da268",
   "metadata": {},
   "source": [
    "---\n",
    "#### 🧪 Try This:\n",
    "1. Use `input()` to ask a user for their favorite Ghanaian food\n",
    "2. Use `len()` to print the number of letters in the food name\n",
    "3. Try using `type()`, `int()`, and `str()` to explore conversions\n"
   ]
  },
  {
   "cell_type": "code",
   "execution_count": null,
   "id": "ccab47cb",
   "metadata": {},
   "outputs": [],
   "source": [
    "# Try this:"
   ]
  },
  {
   "cell_type": "markdown",
   "id": "f2b36ad3",
   "metadata": {},
   "source": [
    "---\n",
    "#### 🔧 User-Defined Functions\n",
    ">In addition to built-in functions, you can create your own functions to perform specific tasks. This allows you to encapsulate logic and reuse it throughout your code. Here's how to define and call a function:\n",
    "\n",
    "```python\n",
    "def function_name(parameters):\n",
    "    # Code block to execute\n",
    "    return value  # Optional return statement\n",
    "```   \n",
    "Note that the function name should be descriptive, and parameters are optional inputs that the function can take. The `return` statement allows the function to send back a value which is also optional.\n",
    "\n",
    "calling a function is done by simply using its name followed by parentheses, like this:\n",
    "\n",
    "```python   \n",
    "# optional arguments\n",
    "function_name()  # No arguments    \n",
    "function_name(arguments)\n",
    "```\n"
   ]
  },
  {
   "cell_type": "code",
   "execution_count": null,
   "id": "c2fbe045",
   "metadata": {},
   "outputs": [],
   "source": [
    "#run this code cell. use the play button or shift+enter\n",
    "# defining a function to wash ingredients\n",
    "# This function has no parameters and prints a message when called.\n",
    "# It does not return any value.\n",
    "def wash_ingredients():   # defining a function\n",
    "    print(\"Washing kontomire, garden eggs, and onions...\")\n",
    "\n",
    "# calling the function to execute its code\n",
    "wash_ingredients()  "
   ]
  },
  {
   "cell_type": "markdown",
   "id": "39e33e7e",
   "metadata": {},
   "source": [
    "#### 🔑 Key Concept: Parameters and Return Values\n",
    ">Parameters are inputs that you can pass to a function to customize its behavior. They allow you to provide specific values that the function can use when it runs. Return values are the outputs that a function can send back after performing its task. This allows you to capture the result of the function and use it later in your code.\n",
    "\n"
   ]
  },
  {
   "cell_type": "code",
   "execution_count": null,
   "id": "24fc63e8",
   "metadata": {},
   "outputs": [],
   "source": [
    "#run this code cell. use the play button or shift+enter\n",
    "#Function with parameters\n",
    "def chop(ingredient):\n",
    "    print(\"Chopping \" + ingredient + \"...\")\n",
    "\n",
    "# Calling the function with different ingredients\n",
    "chop(\"kontomire\")\n",
    "chop(\"onions\")"
   ]
  },
  {
   "cell_type": "markdown",
   "id": "eb29fd43",
   "metadata": {},
   "source": [
    "✨*Quick Tip:*\n",
    "formatting strings in Python can be done using f-strings, which allow you to embed expressions inside string literals. Here's how to use f-strings:\n",
    "\n",
    "```python   \n",
    "# Example of using f-strings\n",
    "name = \"Ghana\"\n",
    "age = 68\n",
    "greeting = f\"Hello, {name}! You are {age} years old.\"\n",
    "print(greeting)  # Output: Hello, Ghana! You are 68 years old."
   ]
  },
  {
   "cell_type": "code",
   "execution_count": null,
   "id": "4fc4438c",
   "metadata": {},
   "outputs": [],
   "source": [
    "#run this code cell. use the play button or shift+enter\n",
    "# Function with return value\n",
    "def boil(time):\n",
    "    return f\"Boiling for {time} minutes.\"\n",
    "\n",
    "# Calling the function and capturing the return value\n",
    "boiling_time = boil(10)\n",
    "print(boiling_time)  # Output: Boiling for 10 minutes."
   ]
  },
  {
   "cell_type": "markdown",
   "id": "24483e93",
   "metadata": {},
   "source": [
    "#### 🧭 Code Execution Flow\n",
    ">Python runs code from top to bottom unless told otherwise. Defining a function doesn’t execute it. It only runs when called. \n",
    "\n",
    "Example Execution Order:\n",
    "1. Start main program\n",
    "2. Define function (no output)\n",
    "3. Call function (code inside runs)\n",
    "4. Return to main flow and continue\n",
    "5. End program"
   ]
  },
  {
   "cell_type": "code",
   "execution_count": null,
   "id": "693425a7",
   "metadata": {},
   "outputs": [],
   "source": [
    "#run this code cell. use the play button or shift+enter\n",
    "# This gives a simple example of how functions affect the flow of a program.\n",
    "def greet():\n",
    "    print(\"Hello, welcome to our kitchen!\")\n",
    "\n",
    "print(\"Let's start cooking!\")\n",
    "greet()  # Calling the greet function to display the greeting message\n",
    "end_message = \"Happy cooking!\"\n",
    "print(end_message)  # Displaying the end message"
   ]
  },
  {
   "cell_type": "markdown",
   "id": "8e82bc4d",
   "metadata": {},
   "source": [
    "---\n",
    "#### 🧪 Try This:\n",
    "1. Write a function called `fry()` that prints “Frying ingredients in red oil...”\n",
    "2. Write a function called `mix(a, b)` that prints “Mixing a and b to make delicious stew”\n",
    "3. Call your functions to simulate making shito or palava sauce"
   ]
  },
  {
   "cell_type": "markdown",
   "id": "5beef5db",
   "metadata": {},
   "source": [
    "---\n",
    "#### 📝Activity: Cook Jollof Rice\n",
    ">Let's simulate preparing jollof rice by writing and calling functions for each step.\n"
   ]
  },
  {
   "cell_type": "code",
   "execution_count": null,
   "id": "2fbcebbb",
   "metadata": {},
   "outputs": [],
   "source": [
    "#TODO: Cook Jollof Rice"
   ]
  },
  {
   "cell_type": "markdown",
   "id": "5f0f953f",
   "metadata": {},
   "source": [
    "---\n",
    "#### 📝 Summary:\n",
    "In this module, you\n",
    "- learned about functions as reusable blocks of code that perform specific tasks, similar to recipes in the kitchen.\n",
    "- explored built-in functions in Python that perform common tasks\n",
    "- learned how to define and call your own functions\n",
    "-learned functions can take parameters and return values\n",
    "- learned defining a function does nothing until it's called\n",
    "- practiced using functions to automate repetitive tasks in cooking"
   ]
  },
  {
   "cell_type": "markdown",
   "id": "03c4e477",
   "metadata": {},
   "source": [
    "---\n",
    "#### 🧠 Reflection Questions:\n",
    "What’s the difference between defining and calling a function? Can you trace the steps your program follows when it uses a function? What other routines from your Ghanaian home could be modeled as functions?\n",
    "\n",
    "Optional: Try visualizing your program with https://pythontutor.com\n",
    "\n",
    "> Next: We'll explore how to store multiple values using lists!"
   ]
  }
 ],
 "metadata": {
  "language_info": {
   "name": "python"
  }
 },
 "nbformat": 4,
 "nbformat_minor": 5
}
