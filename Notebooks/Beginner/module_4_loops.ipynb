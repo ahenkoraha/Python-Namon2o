{
 "cells": [
  {
   "cell_type": "markdown",
   "id": "e62bff02",
   "metadata": {},
   "source": [
    "<style>\n",
    "    table, th, td {\n",
    "        border: none;\n",
    "        border-collapse: collapse;\n",
    "    }\n",
    "</style>\n",
    "<table align=\"center\">\n",
    "  <td align=\"center\">\n",
    "        <img height=\"80\" src=\"../../images/Python Namon2o.png\" style=\"padding-bottom:5px;\" />\n",
    "  </td>\n",
    "  <td align=\"center\"><a target=\"_blank\" href=\"https://colab.research.google.com/github/ahenkoraha/Python-Namon2o/blob/main/Notebooks/Beginner/module_4_loops.ipynb\">\n",
    "        <img height=\"40\" src=\"https://i.ibb.co/2P3SLwK/colab.png\"  style=\"padding-bottom:5px;\" />Run in Google Colab</a></td>\n",
    "\n",
    "</table>"
   ]
  },
  {
   "cell_type": "markdown",
   "id": "b6554620",
   "metadata": {},
   "source": [
    "### 📘 Module 4: Let's Loop It - repeating Actions with Loops \n",
    "\n",
    "#### 👋 Welcome to Python Namon2o!\n",
    "> A beginner-friendly Python tutorial with examples grounded in Ghanaian/African culture. \n",
    "In this module, you'll learn how to repeat tasks in your code using loops.\n",
    "We'll build on the **Ampe** tournament idea and automate repeated actions using `for` and `while` loops.\n",
    "\n",
    "#### 🎯 Objectives\n",
    "By the end of this module, you will:\n",
    "- Understand the purpose of loops \n",
    "- Learn how to use `for` and `while` loops\n",
    "- Identify when to use each type of loop\n",
    "- Practice using loops to simplify repetitive tasks\n",
    "\n",
    "---"
   ]
  },
  {
   "cell_type": "markdown",
   "id": "198caa40",
   "metadata": {},
   "source": [
    "![Ampe Tournament](../../images/ampe_t_gh.png)"
   ]
  },
  {
   "cell_type": "code",
   "execution_count": null,
   "id": "7c9bc5df",
   "metadata": {},
   "outputs": [],
   "source": [
    "#run this code cell. use the play button or shift+enter\n",
    "print(\"Welcome to the Ampe Tournament!\")"
   ]
  },
  {
   "cell_type": "markdown",
   "id": "62541e4b",
   "metadata": {},
   "source": [
    "#### 🔑Key Concept: Loops\n",
    ">Loops allow you to repeat a block of code multiple times without having to write it out again and again. This is useful for tasks that require repetition, like counting, iterating through lists, or performing actions until a condition is met. There are two main types of loops in Python: `for` loops and `while` loops.\n",
    "\n",
    "In Python, indentation (spaces at the beginning of a line) is used to show which lines of code belong together. This tells Python which code should run inside things like loops, if statements, and functions."
   ]
  },
  {
   "cell_type": "markdown",
   "id": "edce8f6f",
   "metadata": {},
   "source": [
    "#### 🔑Key Concept: `for` loop\n",
    "> A `for` loop repeats a block of code for a specific number of times. It is useful when you know how many times you want to repeat the action. It is often used with the `range()` function to specify the number of iterations."
   ]
  },
  {
   "cell_type": "markdown",
   "id": "e4f37729",
   "metadata": {},
   "source": [
    "#### 📘 About `range()`:\n",
    "> The `range()` function generates a sequence of numbers. It is commonly used with `for` loops to specify how many times the loop should run. For example, `range(5)` generates the numbers 0, 1, 2, 3, and 4, which can be used to repeat an action 5 times. It starts at 0 and ends just before 5. You can also specify a start and stop value, like `range(2, 6)`, which generates 2, 3, 4, and 5. Finally, you can add a step value, like `range(0, 10, 2)`, which generates 0, 2, 4, 6, and 8.\n",
    "\n"
   ]
  },
  {
   "cell_type": "code",
   "execution_count": null,
   "id": "a5fc6476",
   "metadata": {},
   "outputs": [],
   "source": [
    "#run this code cell. use the play button or shift+enter\n",
    "#printing a welcome message for each 3 rounds of the Ampe tournament\n",
    "for i in range(3):\n",
    "    print(\"Welcome to Round\", i + 1)"
   ]
  },
  {
   "cell_type": "markdown",
   "id": "fd36dac6",
   "metadata": {},
   "source": [
    "#### 🔑 Key Concept: `while` loop\n",
    "> A `while` loop repeats a block of code as long as a specified condition is true. It is useful when you don't know how many times you need to repeat the action, but you have a condition that will eventually stop the loop. You control when it stops by updating a variable inside the loop.\n",
    "\n",
    "⚠️ **Warning**: If the condition never becomes false, the loop will run forever — this is called an *infinite loop*.\n",
    "\n",
    "Always make sure a code in your loop changes the condition to False, or it may never stop running!\n"
   ]
  },
  {
   "cell_type": "code",
   "execution_count": null,
   "id": "fc0cd3e3",
   "metadata": {},
   "outputs": [],
   "source": [
    "#run this code cell. use the play button or shift+enter\n",
    "#countdown to the start of the Ampe tournament\n",
    "countdown = 3   \n",
    "while countdown > 0:\n",
    "    print(\"Game starts in:\", countdown)\n",
    "    countdown  = countdown - 1"
   ]
  },
  {
   "cell_type": "markdown",
   "id": "7a62761e",
   "metadata": {},
   "source": [
    "---\n",
    "🧪 Try This:\n",
    "1. Change the number in range() to 5.\n",
    "2. Modify the countdown to start from 10."
   ]
  },
  {
   "cell_type": "code",
   "execution_count": null,
   "id": "f6c910e2",
   "metadata": {},
   "outputs": [],
   "source": [
    "#try here"
   ]
  },
  {
   "cell_type": "markdown",
   "id": "bd9a60be",
   "metadata": {},
   "source": [
    "---\n",
    "\n",
    "#### 📝Activity: Ampe Tournament with Loop\n",
    "> Now, let's simulate an Ampe tournament with the number of rounds determined by the user.\n",
    "\n",
    "🧪 Try This:\n",
    "\n",
    "Simulate an Ampe Tournament with the following steps:\n",
    "- Ask the user how many rounds they want to play.\n",
    "- Use a loop to run the tournament for that many rounds.\n",
    "\n",
    "This will help you practice using input, converting to integers, and using loops to repeat actions.\n",
    "\n"
   ]
  },
  {
   "cell_type": "code",
   "execution_count": null,
   "id": "7f0f012c",
   "metadata": {},
   "outputs": [],
   "source": [
    "# TODO: Ampe Tournament"
   ]
  },
  {
   "cell_type": "markdown",
   "id": "e50f2dd8",
   "metadata": {},
   "source": [
    "---\n",
    "#### 📝 Summary:\n",
    "In this module, you\n",
    "- learned the purpose of loops\n",
    "- learned when to use `for` and `while` loops\n",
    "- practiced using loops to repeat actions\n",
    "- applied loops to automate repetitive tasks in the Ampe tournament"
   ]
  },
  {
   "cell_type": "markdown",
   "id": "55180bd1",
   "metadata": {},
   "source": [
    "--- \n",
    "#### 📚 Additional Resources:\n",
    "- [Python For Loops - W3Schools](https://www.w3schools.com/python/python_for_loops.asp)\n",
    "- [Python While Loops - W3Schools](https://www.w3schools.com/python/python_while_loops.asp)\n",
    "- [Python For Loop - Real Python](https://realpython.com/python-for-loop/)\n",
    "- [Python While Loop - Real Python](https://realpython.com/python-while-loop/)\n"
   ]
  },
  {
   "cell_type": "markdown",
   "id": "af61a40a",
   "metadata": {},
   "source": [
    "---\n",
    "#### 🧠 Reflection Question:\n",
    "Can you think of a task in everyday life that repeats multiple times (like brushing your teeth daily)? How would you represent that in code using a loop?\n",
    "\n",
    ">Next: We'll explore Functions - reusable blocks of code that perform specific tasks"
   ]
  },
  {
   "cell_type": "markdown",
   "id": "1932fb6c",
   "metadata": {},
   "source": []
  }
 ],
 "metadata": {
  "language_info": {
   "name": "python"
  }
 },
 "nbformat": 4,
 "nbformat_minor": 5
}
