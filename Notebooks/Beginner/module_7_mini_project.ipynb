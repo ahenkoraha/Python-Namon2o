{
 "cells": [
  {
   "cell_type": "markdown",
   "id": "e4c3cefd",
   "metadata": {},
   "source": [
    "<style>\n",
    "    table, th, td {\n",
    "        border: none;\n",
    "        border-collapse: collapse;\n",
    "    }\n",
    "</style>\n",
    "<table align=\"center\">\n",
    "  <td align=\"center\">\n",
    "        <img height=\"80\" src=\"../../images/Python Namon2o.png\" style=\"padding-bottom:5px;\" />\n",
    "  </td>\n",
    "  <td align=\"center\"><a target=\"_blank\" href=\"https://colab.research.google.com/github/ahenkoraha/Python-Namon2o/blob/main/Notebooks/Beginner/module_7_mini_project.ipynb\">\n",
    "        <img height=\"40\" src=\"https://i.ibb.co/2P3SLwK/colab.png\"  style=\"padding-bottom:5px;\" />Run in Google Colab</a></td>\n",
    "\n",
    "</table>"
   ]
  },
  {
   "cell_type": "markdown",
   "id": "05bb8f93",
   "metadata": {},
   "source": [
    "### 📘 Module 7: Mini Project – Ghanaian TroTro Fare System\n",
    "\n",
    "#### 👋 Welcome to Python Namon2o!\n",
    "> A beginner-friendly Python tutorial with examples grounded in Ghanaian/African culture. \n",
    "This module is your mini project — a bigger challenge that combines everything you’ve learned so far.\n",
    "We’ll simulate a TroTro Fare Calculator, inspired by Ghana’s shared transport (bus) system.\n",
    "\n",
    "\n",
    "#### 🎯 Objectives\n",
    "By the end of this module, you will practice and demonstrate your understanding of:\n",
    "- variables and data types\n",
    "- conditionals\n",
    "- loops\n",
    "- lists\n",
    "- functions\n",
    "- user input and output\n",
    "\n",
    "---"
   ]
  },
  {
   "cell_type": "markdown",
   "id": "c694c31d",
   "metadata": {},
   "source": [
    "![trotro](../../images/trotro.png)"
   ]
  },
  {
   "cell_type": "markdown",
   "id": "179fb1b1",
   "metadata": {},
   "source": [
    "#### 🎯 Project Goal\n",
    "Write a program that:\n",
    "1. Stores routes and base fares in a list\n",
    "2. Lets the user choose a route\n",
    "3. Accepts multiple passengers and applies different fare rules\n",
    "4. Uses functions to calculate fares and print receipts\n",
    "5. Handles special conditions like discounts or rush hour increases\n",
    "---"
   ]
  },
  {
   "cell_type": "markdown",
   "id": "eef33252",
   "metadata": {},
   "source": [
    "#### 📝 Step 1: Define Routes and Base Fares\n",
    "\n",
    "👉🏽 Task: Create a list of routes, where each route has a name and base fare."
   ]
  },
  {
   "cell_type": "code",
   "execution_count": null,
   "id": "c28dde4c",
   "metadata": {},
   "outputs": [],
   "source": [
    "# Your code here"
   ]
  },
  {
   "cell_type": "markdown",
   "id": "dc1ef733",
   "metadata": {},
   "source": [
    "<details> <summary>💡 Hint</summary>\n",
    "\n",
    "Think of each route as a list with two items:\n",
    "\n",
    "The route name (string)\n",
    "\n",
    "The fare (number)\n",
    "\n",
    "Example:\n",
    "```Python\n",
    "routes = [\n",
    "    [\"Accra-Circle\", 5],\n",
    "    [\"Accra-Madina\", 10]\n",
    "]\n",
    "```\n",
    "</details>"
   ]
  },
  {
   "cell_type": "markdown",
   "id": "11e1a370",
   "metadata": {},
   "source": [
    "---\n",
    "#### 📝 Step 2: Show Routes to the User\n",
    "\n",
    "👉🏽 Task: Write a function show_routes() that prints available routes with their fares."
   ]
  },
  {
   "cell_type": "code",
   "execution_count": null,
   "id": "0cc3fa36",
   "metadata": {},
   "outputs": [],
   "source": [
    "# Your code here"
   ]
  },
  {
   "cell_type": "markdown",
   "id": "6b031c68",
   "metadata": {},
   "source": [
    "<details> <summary>💡 Hint</summary>\n",
    "\n",
    "Use a for loop  so each route has a number.\n",
    "Example output:\n",
    "\n",
    "1. Accra-Circle - 5 GHS\n",
    "2. Accra-Madina - 10 GHS\n",
    "\n",
    "</details>"
   ]
  },
  {
   "cell_type": "markdown",
   "id": "c713ed81",
   "metadata": {},
   "source": [
    "---\n",
    "#### 📝 Step 3: Calculate Fares\n",
    "\n",
    "👉🏽 Task: Write a function calculate_fare(base_fare, passenger_type, rush_hour) that:\n",
    "- Applies 50% discount for children\n",
    "- Applies 25% discount for students\n",
    "- Adds 20% surcharge during rush hour"
   ]
  },
  {
   "cell_type": "code",
   "execution_count": null,
   "id": "1b8daa2c",
   "metadata": {},
   "outputs": [],
   "source": [
    "# Your code here"
   ]
  },
  {
   "cell_type": "markdown",
   "id": "71d64d21",
   "metadata": {},
   "source": [
    "<details> <summary>💡 Hint</summary>\n",
    "\n",
    "Use if/elif/else for passenger type.\n",
    "At the end, use return to give back the fare.\n",
    "\n",
    "</details>"
   ]
  },
  {
   "cell_type": "markdown",
   "id": "9b30db60",
   "metadata": {},
   "source": [
    "---\n",
    "#### 📝 Step 4: Main Program Flow\n",
    "\n",
    "👉🏽 Task:\n",
    "- Ask the user to pick a route by number\n",
    "- Ask how many passengers\n",
    "- For each passenger, ask their type (adult/student/child)\n",
    "- Use your function to calculate fares and keep a running total"
   ]
  },
  {
   "cell_type": "code",
   "execution_count": null,
   "id": "22aa5a92",
   "metadata": {},
   "outputs": [],
   "source": [
    "# Your code here"
   ]
  },
  {
   "cell_type": "markdown",
   "id": "f152f469",
   "metadata": {},
   "source": [
    "<details> <summary>💡 Hint</summary>\n",
    "\n",
    "Use a for loop to repeat passenger input.\n",
    "Keep fares in a list so you can print them later.\n",
    "\n",
    "</details>"
   ]
  },
  {
   "cell_type": "markdown",
   "id": "b072c647",
   "metadata": {},
   "source": [
    "---\n",
    "#### 📝 Step 5: Print Receipt\n",
    "\n",
    "👉🏽 Task: Print a receipt that shows:\n",
    "- The route name\n",
    "- Each passenger’s fare\n",
    "- The total"
   ]
  },
  {
   "cell_type": "code",
   "execution_count": null,
   "id": "678ce550",
   "metadata": {},
   "outputs": [],
   "source": [
    "# Your code here"
   ]
  },
  {
   "cell_type": "markdown",
   "id": "c26ee963",
   "metadata": {},
   "source": [
    "<details> <summary>💡 Hint</summary>\n",
    "\n",
    "Loop over your list of fares.\n",
    "Use print(f\"...\") formatting for neat output.\n",
    "\n",
    "</details>"
   ]
  },
  {
   "cell_type": "markdown",
   "id": "a8852bbf",
   "metadata": {},
   "source": [
    "---\n",
    "#### 🧪 Extra Challenges\n",
    "- Add more routes\n",
    "- Add a new passenger type (e.g., elderly with 30% discount)\n",
    "- Ask for payment method (Cash or MoMo)"
   ]
  },
  {
   "cell_type": "markdown",
   "id": "3cbc73fc",
   "metadata": {},
   "source": [
    "---\n",
    "#### 🧠 Reflection Questions\n",
    "\n",
    "- Why does the program use a loop for multiple passengers?\n",
    "- How do functions keep the fare calculator organized?\n",
    "- How might the program change if we used a dictionary instead of a list?"
   ]
  },
  {
   "cell_type": "markdown",
   "id": "809f79d1",
   "metadata": {},
   "source": [
    "<details> <summary>Click here to view the complete solution (only after you try!)</summary>\n",
    "\n",
    "```Python\n",
    "# Step 1: Define routes\n",
    "routes = [\n",
    "    [\"Accra-Circle\", 5],\n",
    "    [\"Accra-Madina\", 10],\n",
    "    [\"Accra-Kaneshie\", 7],\n",
    "    [\"Accra-Tema\", 12]\n",
    "]\n",
    "\n",
    "# Step 2: Show routes\n",
    "def show_routes():\n",
    "    print(\"Available Routes and Fares:\")\n",
    "    for i in range(len(routes)):\n",
    "        print(f\"{i+1}. {routes[i][0]} - GH₵ {routes[i][1]} \")\n",
    "\n",
    "# Step 3: Calculate fares\n",
    "def calculate_fare(base_fare, passenger_type):\n",
    "    if passenger_type == \"child\":\n",
    "        fare = base_fare * 0.5\n",
    "    elif passenger_type == \"student\":\n",
    "        fare = base_fare * 0.75\n",
    "    else:\n",
    "        fare = base_fare\n",
    "    \n",
    "    return round(fare, 2)\n",
    "\n",
    "# Step 4 + 5: Main program and receipt\n",
    "def trotro_system():\n",
    "    print(\"=== TroTro Fare System ===\")\n",
    "    show_routes()\n",
    "    \n",
    "    route_choice = int(input(\"Enter the number of your route: \"))\n",
    "    if route_choice < 1 or route_choice > len(routes):\n",
    "        print(\"Invalid choice. Please restart.\")\n",
    "        return\n",
    "    \n",
    "    selected_route = routes[route_choice - 1]\n",
    "    base_fare = selected_route[1]\n",
    "        \n",
    "    passengers = int(input(\"How many passengers? \"))\n",
    "    total = 0\n",
    "    fares = []\n",
    "    \n",
    "    for i in range(passengers):\n",
    "        passenger_type = input(f\"Passenger {i+1} (adult/student/child): \").lower()\n",
    "        fare = calculate_fare(base_fare, passenger_type)\n",
    "        fares.append(fare)\n",
    "        total += fare\n",
    "    \n",
    "    print(\"\\n=== Fare Receipt ===\")\n",
    "    print(f\"Route: {selected_route[0]}\")\n",
    "    for i in range(len(fares)):\n",
    "        print(f\"Passenger {i+1}: GH₵ {fares[i]} \")\n",
    "    print(f\"Total fare: GH₵ {total} \")\n",
    "    print(\"Thank you for riding with us!\")\n",
    "\n",
    "# Run the program\n",
    "trotro_system()\n",
    "```\n",
    "</details>"
   ]
  },
  {
   "cell_type": "markdown",
   "id": "03ff6d9c",
   "metadata": {},
   "source": []
  }
 ],
 "metadata": {
  "kernelspec": {
   "display_name": "Python 3",
   "language": "python",
   "name": "python3"
  },
  "language_info": {
   "codemirror_mode": {
    "name": "ipython",
    "version": 3
   },
   "file_extension": ".py",
   "mimetype": "text/x-python",
   "name": "python",
   "nbconvert_exporter": "python",
   "pygments_lexer": "ipython3",
   "version": "3.11.9"
  }
 },
 "nbformat": 4,
 "nbformat_minor": 5
}
