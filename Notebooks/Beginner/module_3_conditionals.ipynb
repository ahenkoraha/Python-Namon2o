{
 "cells": [
  {
   "cell_type": "markdown",
   "id": "7f846dc3",
   "metadata": {},
   "source": [
    "<style>\n",
    "    table, th, td {\n",
    "        border: none;\n",
    "        border-collapse: collapse;\n",
    "    }\n",
    "</style>\n",
    "<table align=\"center\">\n",
    "  <td align=\"center\">\n",
    "        <img height=\"80\" src=\"../../images/Python Namon2o.png\" style=\"padding-bottom:5px;\" />\n",
    "  </td>\n",
    "  <td align=\"center\"><a target=\"_blank\" href=\"https://colab.research.google.com/github/ahenkoraha/Python-Namon2o/blob/main/Notebooks/Beginner/module_3_conditionals.ipynb\">\n",
    "        <img height=\"40\" src=\"https://i.ibb.co/2P3SLwK/colab.png\"  style=\"padding-bottom:5px;\" />Run in Google Colab</a></td>\n",
    "\n",
    "</table>"
   ]
  },
  {
   "cell_type": "markdown",
   "id": "15716548",
   "metadata": {},
   "source": [
    "### 📘 Module 3: Making Decisions with Conditionals \n",
    "\n",
    "#### 👋 Welcome to Python Namon2o!\n",
    "> A beginner-friendly Python tutorial with examples grounded in Ghanaian/African culture. \n",
    "In this module, you'll learn how to make decisions in your code using conditionals (`if`, `else`, `elif`).\n",
    "We'll model the popular Ghanaian game **Ampe** to demonstrate how programs can react differently depending on input.\n",
    "\n",
    "#### 🎯 Objectives\n",
    "By the end of this module, you will:\n",
    "- Understand `if`, `else`, and `elif` statements  \n",
    "- Learn how computers make decisions\n",
    "- Simulate decision logic using a cultural game\n",
    "- Understand the difference between hardcoded and interactive logic\n",
    "- Learn how to use the input() function for interactivity\n",
    "\n",
    "---"
   ]
  },
  {
   "cell_type": "markdown",
   "id": "d9b68c89",
   "metadata": {},
   "source": [
    "#### 📚 What is Ampe?\n",
    "Ampe is a popular Ghanaian game played by children, commonly played by girls. This game involves two players jumping and clapping while simultaneously throwing one foot forward when they land. If both players put out the same foot (e.g., both left or both right), one player wins the round based on a pre-agreed rule. It's fast-paced and energetic, involving rhythm, prediction, and quick decision-making. This can also be a team game where players can form teams and compete against each other. \n",
    "\n",
    "👉 Learn more here: [Ampe-Wikipedia](https://en.wikipedia.org/wiki/Ampe_(game)), [Games played in Ghana by \n",
    "Film Kiba](https://www.youtube.com/watch?v=3Ihkxy2BXAw)\n",
    "\n",
    "---"
   ]
  },
  {
   "cell_type": "code",
   "execution_count": null,
   "id": "65b58e12",
   "metadata": {},
   "outputs": [],
   "source": [
    "#run this code cell. use the play button or shift+enter\n",
    "print(\"Let's play Ampe!\")"
   ]
  },
  {
   "cell_type": "markdown",
   "id": "4145d8b4",
   "metadata": {},
   "source": [
    "#### 🔑 Key Concept: Conditionals\n",
    ">Conditionals let program make decisions based on certain conditions. They let you control the flow of your program by executing different code blocks depending on whether a condition is true or false. In Python, we use `if`, `else`, and `elif` to create these decision points."
   ]
  },
  {
   "cell_type": "code",
   "execution_count": null,
   "id": "4bc17551",
   "metadata": {},
   "outputs": [],
   "source": [
    "#run this code cell. use the play button or shift+enter\n",
    "if 1 < 2:\n",
    "    print(\"1 < 2, so we can play Ampe!\")\n",
    "else:\n",
    "    print(\"1 < 2 is not true, so we cannot play Ampe.\")"
   ]
  },
  {
   "cell_type": "markdown",
   "id": "86f4255f",
   "metadata": {},
   "source": [
    "#### 🔑 Key Concept: Hardcoded vs Interactive Input\n",
    ">Sometimes we set the values ourselves in the code as we've done so far(**hardcoded**). Other times, we ask the user to provide input during runtime (**interactive**)."
   ]
  },
  {
   "cell_type": "code",
   "execution_count": null,
   "id": "679e2515",
   "metadata": {},
   "outputs": [],
   "source": [
    "#run this code cell. use the play button or shift+enter\n",
    "player1_foot = \"left\"\n",
    "player2_foot = \"right\"\n",
    "\n",
    "if player1_foot == player2_foot:\n",
    "    print(\"[Hardcoded] Player 1 wins!\")\n",
    "else:\n",
    "    print(\"[Hardcoded] Player 2 wins!\")"
   ]
  },
  {
   "cell_type": "markdown",
   "id": "08104913",
   "metadata": {},
   "source": [
    "#### 🔑 Key Concept: input() Function\n",
    ">The input() function allows your program to accept information from the user. The information returned is always of type `string`, so it may need to be converted to `int` or `float` if used as numbers. \n",
    "\n",
    "Example: `name = input(\"What is your name? \")`"
   ]
  },
  {
   "cell_type": "code",
   "execution_count": null,
   "id": "54ec7c42",
   "metadata": {},
   "outputs": [],
   "source": [
    "#run this code cell. use the play button or shift+enter\n",
    "player1_input = input(\"Player 1 - Choose your foot (left/right): \")\n",
    "player2_input = input(\"Player 2 - Choose your foot (left/right): \")\n",
    "\n",
    "if player1_input == player2_input:\n",
    "    print(\"[Interactive] Player 1 wins!\")\n",
    "else:\n",
    "    print(\"[Interactive] Player 2 wins!\")"
   ]
  },
  {
   "cell_type": "markdown",
   "id": "3ed3bdfb",
   "metadata": {},
   "source": [
    "We have used `if` and `else`. Now let's add more fun with `elif` (else if). Let's add a referee's call to the `ampe` game."
   ]
  },
  {
   "cell_type": "code",
   "execution_count": null,
   "id": "50a8de4d",
   "metadata": {},
   "outputs": [],
   "source": [
    "#run this code cell. use the play button or shift+enter\n",
    "ref_call = input(\"Referee call (replay/fair/foul): \")\n",
    "\n",
    "if ref_call == \"foul\":\n",
    "    print(\"Point cancelled due to foul.\")\n",
    "elif ref_call == \"replay\":\n",
    "    print(\"Do over!\")\n",
    "else:\n",
    "    print(\"Point stands.\")"
   ]
  },
  {
   "cell_type": "markdown",
   "id": "4403407d",
   "metadata": {},
   "source": [
    "---\n",
    "#### 📝Activity: Ampe mini tournament\n",
    "> Now, let's simulate a mini Ampe tournament with 3 rounds.\n",
    "\n",
    "🧪 Try This:\n",
    "\n",
    "Simulate an Ampe mini-tournament:\n",
    "- Run 3 rounds using input()\n",
    "- Keep score for each player\n",
    "- Declare the final winner\n",
    "\n"
   ]
  },
  {
   "cell_type": "code",
   "execution_count": null,
   "id": "a79f8acc",
   "metadata": {},
   "outputs": [],
   "source": [
    "# TODO: Ampe mini tournament"
   ]
  },
  {
   "cell_type": "markdown",
   "id": "b8adb262",
   "metadata": {},
   "source": [
    "---\n",
    "#### 📝 Summary:\n",
    "In this module, you\n",
    "- Learned about conditionals and decision-making in code\n",
    "- Used `if`, `else`, and `elif` to simulate the Ampe game\n",
    "- Compared hardcoded logic to user-driven input using `input()`\n",
    "- Understood how input() adds interactivity to programs\n"
   ]
  },
  {
   "cell_type": "markdown",
   "id": "74a43a2f",
   "metadata": {},
   "source": [
    "--- \n",
    "#### 📚 Additional Resources:\n",
    "- [Python Conditionals - W3Schools](https://www.w3schools.com/python/python_conditions.asp)\n",
    "- [Python Input Function - W3Schools](https://www.w3schools.com/python/python_user_input.asp)\n",
    "- [Python Input and Output - Real Python](https://realpython.com/python-input-output/)"
   ]
  },
  {
   "cell_type": "markdown",
   "id": "7ec0bca4",
   "metadata": {},
   "source": [
    "---\n",
    "#### 🧠 Reflection Question:\n",
    "Can you describe a real-life situation where using `if`, `else`, or `elif` in code would help make a decision? For example, think about checking age before voting, or selecting a route based on traffic.\n",
    "\n",
    "When would you prefer hardcoded values over user input, and vice versa?\n",
    "\n",
    ">Next: We’ll explore how to repeat actions using loops!"
   ]
  },
  {
   "cell_type": "markdown",
   "id": "fbedcc4a",
   "metadata": {},
   "source": []
  }
 ],
 "metadata": {
  "language_info": {
   "name": "python"
  }
 },
 "nbformat": 4,
 "nbformat_minor": 5
}
