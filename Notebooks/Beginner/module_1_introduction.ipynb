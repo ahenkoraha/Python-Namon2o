{
 "cells": [
  {
   "cell_type": "markdown",
   "id": "00dc7d7f",
   "metadata": {},
   "source": [
    "### 📘 Module 1: Introduction to Python and Jupyter Notebooks\n",
    "\n",
    "#### 👋 Welcome to Python Namon2o!\n",
    "> A beginner-friendly Python tutorial with examples grounded in Ghanaian/African culture. \n",
    "In this module, you'll be introduced to Python, a powerful and beginner-friendly programming language,and Jupyter Notebooks, an interactive tool used by professionals and students alike.\n",
    "\n",
    "#### 🎯 Objectives\n",
    "By the end of this module, you will:\n",
    "- Understand what Python is and why it’s useful  \n",
    "- Learn how to run Python code in Jupyter Notebooks \n",
    "- Write your first lines of code \n",
    "- Print culturally relevant messages"
   ]
  },
  {
   "cell_type": "markdown",
   "id": "0c761d39",
   "metadata": {},
   "source": [
    "---\n",
    "### 🐍 What is Python?\n",
    "![Python Logo](https://www.python.org/static/community_logos/python-logo.png)\n",
    "> Python is a powerful and easy-to-learn programming language. It is a high-level, interpreted programming language known for its readability and simplicity. It was created by Guido van Rossum and first released in 1991. It can be used for a wide range of applications, from web development to data analysis and machine learning. Read more about Python on the [official website](https://www.python.org/) or [W3 Schools](https://www.w3schools.com/python/python_intro.asp)."
   ]
  },
  {
   "cell_type": "markdown",
   "id": "aaa87265",
   "metadata": {},
   "source": [
    "---\n",
    "### 📒 What is a Jupyter Notebook?\n",
    "![Jupyter Logo](../../images/jupyter-logo-png.png)\n",
    "> Jupyter Notebook is is a shareable document that combines  code, plain language descriptions, data, rich visualizations like charts, graphs, and images (Just like the document you are currently reading). It supports various programming languages, including Python, and is widely used for data analysis, machine learning, and scientific computing. You can learn more about Jupyter Notebooks on the [official website](https://jupyter.org/).\n",
    "\n",
    "*To run the code in this notebook, you can use the \"Run\" button (\"Play\" button) or press `Shift + Enter` on your keyboard.*"
   ]
  },
  {
   "cell_type": "markdown",
   "id": "098c0dcc",
   "metadata": {},
   "source": [
    "---\n",
    "### 💬 First Lines of Code\n",
    "#### 🌍 Greetings from Ghana!\n",
    "![Map of Africa with Local Greetings](https://upload.wikimedia.org/wikipedia/commons/8/86/Africa_Map_Languages.png)"
   ]
  },
  {
   "cell_type": "code",
   "execution_count": null,
   "id": "e932a3c5",
   "metadata": {},
   "outputs": [],
   "source": [
    "print(\"Hello Ghana!\")\n",
    "print(\"Akwaaba! Welcome to Python Namon2o - Step by step, the Ghanaian way.\")"
   ]
  },
  {
   "cell_type": "markdown",
   "id": "9c5fdfc5",
   "metadata": {},
   "source": [
    "> Type and run your own greeting in Python!"
   ]
  },
  {
   "cell_type": "code",
   "execution_count": null,
   "id": "5d1faaff",
   "metadata": {},
   "outputs": [],
   "source": [
    "# TODO: Type and run your own greeting in Python below"
   ]
  },
  {
   "cell_type": "markdown",
   "id": "90b07abc",
   "metadata": {},
   "source": [
    "#"
   ]
  },
  {
   "cell_type": "markdown",
   "id": "042c1bab",
   "metadata": {},
   "source": [
    "---\n",
    "### 📚 Useful Resources\n",
    "- ![Python](https://img.shields.io/badge/Python-Official-blue) [python.org](https://www.python.org/)\n",
    "- ![Jupyter](https://img.shields.io/badge/Jupyter-Docs-orange) [jupyter.org/documentation](https://jupyter.org/documentation)\n",
    "- ![CS50 Python](https://img.shields.io/badge/CS50-Python-red) [CS50 Intro to Python](https://cs50.harvard.edu/python/)\n",
    "- ![African Languages](https://img.shields.io/badge/African%20Languages-UPenn-green) [UPenn African Languages](https://www.africa.upenn.edu/ALC/African_Languages.html)"
   ]
  },
  {
   "cell_type": "markdown",
   "id": "0363b360",
   "metadata": {},
   "source": []
  }
 ],
 "metadata": {
  "language_info": {
   "name": "python"
  }
 },
 "nbformat": 4,
 "nbformat_minor": 5
}
