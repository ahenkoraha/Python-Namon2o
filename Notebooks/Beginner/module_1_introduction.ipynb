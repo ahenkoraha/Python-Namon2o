{
 "cells": [
  {
   "cell_type": "markdown",
   "id": "5db0b65f",
   "metadata": {},
   "source": [
    "<style>\n",
    "    table, th, td {\n",
    "        border: none;\n",
    "        border-collapse: collapse;\n",
    "    }\n",
    "</style>\n",
    "<table align=\"center\">\n",
    "  <td align=\"center\">\n",
    "        <img height=\"80\" src=\"../../images/Python Namon2o.png\" style=\"padding-bottom:5px;\" />\n",
    "  </td>\n",
    "  <td align=\"center\"><a target=\"_blank\" href=\"https://colab.research.google.com/github/ahenkoraha/Python-Namon2o/blob/main/Notebooks/Beginner/module_1_introduction.ipynb\">\n",
    "        <img height=\"40\" src=\"https://i.ibb.co/2P3SLwK/colab.png\"  style=\"padding-bottom:5px;\" />Run in Google Colab</a></td>\n",
    "\n",
    "</table>"
   ]
  },
  {
   "cell_type": "markdown",
   "id": "00dc7d7f",
   "metadata": {},
   "source": [
    "### 📘 Module 1: Introduction to Python and Jupyter Notebooks\n",
    "\n",
    "#### 👋 Welcome to Python Namon2o!\n",
    "> A beginner-friendly Python tutorial with examples grounded in Ghanaian/African culture. \n",
    "In this module, you'll be introduced to Python, a powerful and beginner-friendly programming language,and Jupyter Notebooks, an interactive tool used by professionals and students alike.\n",
    "\n",
    "#### 🎯 Objectives\n",
    "By the end of this module, you will:\n",
    "- Understand what Python is and why it’s useful  \n",
    "- Learn how to run Python code in Jupyter Notebooks \n",
    "- Write your first lines of code \n",
    "- Learn how to use the print() function\n",
    "- Begin thinking like a programmer"
   ]
  },
  {
   "cell_type": "markdown",
   "id": "0c761d39",
   "metadata": {},
   "source": [
    "---\n",
    "### 🐍 What is Python?\n",
    "![Python Logo](https://www.python.org/static/community_logos/python-logo.png)\n",
    "> Python is a powerful and easy-to-learn programming language. It is a high-level, interpreted programming language known for its readability and simplicity. It was created by Guido van Rossum and first released in 1991. It can be used for a wide range of applications, from web development to data analysis and machine learning. Read more about Python on the [official website](https://www.python.org/) or [W3 Schools](https://www.w3schools.com/python/python_intro.asp)."
   ]
  },
  {
   "cell_type": "markdown",
   "id": "aaa87265",
   "metadata": {},
   "source": [
    "---\n",
    "### 📒 What is a Jupyter Notebook?\n",
    "![Jupyter Logo](../../images/jupyter-logo-png.png)\n",
    "> Jupyter Notebook is is a shareable document that combines  code, plain language descriptions, data, rich visualizations like charts, graphs, and images (Just like the document you are currently reading). It supports various programming languages, including Python, and is widely used for data analysis, machine learning, and scientific computing. You can learn more about Jupyter Notebooks on the [official website](https://jupyter.org/).\n",
    "\n",
    "*To run the code in this notebook, you can use the \"Run\" button (\"Play\" button) or press `Shift + Enter` on your keyboard.*"
   ]
  },
  {
   "cell_type": "markdown",
   "id": "098c0dcc",
   "metadata": {},
   "source": [
    "---\n",
    "### 💬 First Lines of Code\n",
    "#### 🌍 Greetings from Ghana!\n",
    "![Ghanaian Greetings](../../images/Welcome_gh.png)"
   ]
  },
  {
   "cell_type": "code",
   "execution_count": null,
   "id": "e932a3c5",
   "metadata": {},
   "outputs": [],
   "source": [
    "#run this code cell. use the play button or shift+enter\n",
    "print(\"Hello Ghana!\")\n",
    "print(\"Akwaaba! Welcome to Python Namon2o - Step by step, the Ghanaian way.\")"
   ]
  },
  {
   "cell_type": "markdown",
   "id": "c108d201",
   "metadata": {},
   "source": [
    "#### 🔑 Key Concept: print() Function\n",
    "> print() is used to display text or output to the screen. Text is inside quotes (single('') or double(\"\")) "
   ]
  },
  {
   "cell_type": "code",
   "execution_count": null,
   "id": "6328c1d0",
   "metadata": {},
   "outputs": [],
   "source": [
    "#run this code cell. use the play button or shift+enter\n",
    "print(\"Learning Python step by step\")\n",
    "print('Python is fun!')"
   ]
  },
  {
   "cell_type": "markdown",
   "id": "b83a1936",
   "metadata": {},
   "source": [
    ">You can print multiple pieces of information using commas. This included numbers and text."
   ]
  },
  {
   "cell_type": "code",
   "execution_count": null,
   "id": "cee7589b",
   "metadata": {},
   "outputs": [],
   "source": [
    "#run this code cell. use the play button or shift+enter\n",
    "print(\"You are learning\", \"Python\", \"today!\")\n",
    "print(\"My name is\", 'Akua', \"and I am\", 20, \"years old.\")"
   ]
  },
  {
   "cell_type": "markdown",
   "id": "7337852a",
   "metadata": {},
   "source": [
    ">You can also print the results of calculations"
   ]
  },
  {
   "cell_type": "code",
   "execution_count": null,
   "id": "cdcbb77d",
   "metadata": {},
   "outputs": [],
   "source": [
    "#run this code cell. use the play button or shift+enter\n",
    "print(\"7 + 3 =\", 7 + 3)\n",
    "print(\"3 times 4 is\", 3 * 4)"
   ]
  },
  {
   "cell_type": "markdown",
   "id": "8ba2d8c0",
   "metadata": {},
   "source": [
    ">print multiple lines of text by using the \\n character to create a new line"
   ]
  },
  {
   "cell_type": "code",
   "execution_count": null,
   "id": "2aff0418",
   "metadata": {},
   "outputs": [],
   "source": [
    "#run this code cell. use the play button or shift+enter\n",
    "print(\"Today we will learn:\\n1. What is Python\\n2. How to use print()\\n3. Why Python is useful\")"
   ]
  },
  {
   "cell_type": "markdown",
   "id": "9c5fdfc5",
   "metadata": {},
   "source": [
    "#### 📝Activity: Print a Greeting\n",
    "> Let's start by printing a simple greeting in Python. You can use the `print()` function to display messages. Just like how we greet each other in Ghana, we can print a friendly message.\n",
    "\n",
    "Type the code in the previous cell with the greeting, customize the message, and run it to see the output.\n",
    "\n",
    "\n",
    "\n"
   ]
  },
  {
   "cell_type": "code",
   "execution_count": null,
   "id": "5d1faaff",
   "metadata": {},
   "outputs": [],
   "source": [
    "# TODO: Type and run your own greeting in Python below"
   ]
  },
  {
   "cell_type": "markdown",
   "id": "46fef66a",
   "metadata": {},
   "source": [
    "#### 📝Activity: Introduce yourself\n",
    "> Now, let's introduce ourselves! Use the `print()` function to display your name, age, favourite food, and a fun fact about yourself. \n",
    "\n",
    "✅ Try This:\n",
    "1. Print your name and favorite food\n",
    "2. Print your age and a short sentence about why you’re learning Python\n",
    "3. Print a fun fact about yourself and your favourite number\n",
    "\n",
    "```python"
   ]
  },
  {
   "cell_type": "code",
   "execution_count": null,
   "id": "ba5edf41",
   "metadata": {},
   "outputs": [],
   "source": [
    "# TODO: Type and run your introduction in Python below"
   ]
  },
  {
   "cell_type": "markdown",
   "id": "90b07abc",
   "metadata": {},
   "source": [
    "#"
   ]
  },
  {
   "cell_type": "markdown",
   "id": "042c1bab",
   "metadata": {},
   "source": [
    "---\n",
    "### 📚 Useful Resources\n",
    "- [Python.org](https://www.python.org/about/gettingstarted/)\n",
    "- [W3Schools Python Basics](https://www.w3schools.com/python/)\n",
    "- [Real Python](https://realpython.com/python-basics/)\n",
    "- [Learn Python – FreeCodeCamp Video](https://www.youtube.com/watch?v=rfscVS0vtbw)\n",
    "- [Jupyter Notebook Documentation](https://jupyter-notebook.readthedocs.io/en/stable/)\n"
   ]
  },
  {
   "cell_type": "markdown",
   "id": "321374a2",
   "metadata": {},
   "source": [
    "---\n",
    "\n",
    "### 🧠 Reflection Question:\n",
    "What are some things you wish a computer could help you with today?"
   ]
  },
  {
   "cell_type": "markdown",
   "id": "420918b7",
   "metadata": {},
   "source": [
    ">Next: We’ll dive into storing data using variables!"
   ]
  }
 ],
 "metadata": {
  "kernelspec": {
   "display_name": "Python 3",
   "language": "python",
   "name": "python3"
  },
  "language_info": {
   "codemirror_mode": {
    "name": "ipython",
    "version": 3
   },
   "file_extension": ".py",
   "mimetype": "text/x-python",
   "name": "python",
   "nbconvert_exporter": "python",
   "pygments_lexer": "ipython3",
   "version": "3.11.9"
  }
 },
 "nbformat": 4,
 "nbformat_minor": 5
}
