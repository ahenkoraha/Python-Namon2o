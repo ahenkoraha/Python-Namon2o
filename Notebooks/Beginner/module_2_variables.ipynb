{
 "cells": [
  {
   "cell_type": "markdown",
   "id": "4b1cc603",
   "metadata": {},
   "source": [
    "<style>\n",
    "    table, th, td {\n",
    "        border: none;\n",
    "        border-collapse: collapse;\n",
    "    }\n",
    "</style>\n",
    "<table align=\"center\">\n",
    "  <td align=\"center\">\n",
    "        <img height=\"80\" src=\"../../images/Python Namon2o.png\" style=\"padding-bottom:5px;\" />\n",
    "  </td>\n",
    "  <td align=\"center\"><a target=\"_blank\" href=\"https://colab.research.google.com/github/ahenkoraha/Python-Namon2o/blob/main/Notebooks/Beginner/module_2_variables.ipynb\">\n",
    "        <img height=\"40\" src=\"https://i.ibb.co/2P3SLwK/colab.png\"  style=\"padding-bottom:5px;\" />Run in Google Colab</a></td>\n",
    "\n",
    "</table>"
   ]
  },
  {
   "cell_type": "markdown",
   "id": "ed887b28",
   "metadata": {},
   "source": [
    "### 📘 Module 2: Variables & Data Types in Context\n",
    "\n",
    "#### 👋 Welcome to Python Namon2o!\n",
    "> A beginner-friendly Python tutorial with examples grounded in Ghanaian/African culture. \n",
    "In this module, you'll explore variables and basic data types using relatable African market examples.\n",
    "Variables allow us to store information like prices, quantities, and names for later use.\n",
    "\n",
    "#### 🎯 Objectives\n",
    "By the end of this module, you will:\n",
    "- Understand variables and how to assign them  \n",
    "- Learn basic data types: strings, integers, floats\n",
    "- Practice with relatable cultural scenarios\n",
    "- Discover common operations with these data types\n",
    "\n",
    "---"
   ]
  },
  {
   "cell_type": "code",
   "execution_count": null,
   "id": "88f672bd",
   "metadata": {},
   "outputs": [],
   "source": [
    "#run this code cell. use the play button or shift+enter\n",
    "print(\"Akwaaba! Let's visit the market today!\")"
   ]
  },
  {
   "cell_type": "markdown",
   "id": "e62c6a42",
   "metadata": {},
   "source": [
    "#### 🔑Key Concept: Variables\n",
    ">Variables are like containers that hold information. You can think of them as labeled boxes that store data you can use later. In Python, you create a variable by giving it a name and assigning it a value.\n",
    "\n",
    "Example: item_name = \"Plantain\"\n"
   ]
  },
  {
   "cell_type": "code",
   "execution_count": null,
   "id": "33e79720",
   "metadata": {},
   "outputs": [],
   "source": [
    "#run this code cell. use the play button or shift+enter\n",
    "#variable to store the name of the market\n",
    "market_name = \"Makola Market\"\n",
    "item_name = \"Plantain\"\n",
    "item_count = 1"
   ]
  },
  {
   "cell_type": "markdown",
   "id": "3037ba09",
   "metadata": {},
   "source": [
    "> Notice how we use the equals sign `=` to assign a value to a variable. The variable name is on the left, and the value is on the right. Variable names can only contain letters, numbers, and underscores? They cannot start with a number and should not contain spaces or special characters.\n",
    "\n",
    ">Did you also notice that the code in the previous example did not display any output? In Python, if you want to see the value of a variable, you need to use the `print()` function."
   ]
  },
  {
   "cell_type": "code",
   "execution_count": null,
   "id": "0c90ecdd",
   "metadata": {},
   "outputs": [],
   "source": [
    "#run this code cell. use the play button or shift+enter\n",
    "print(market_name)\n",
    "print(item_name)\n",
    "print(item_count)"
   ]
  },
  {
   "cell_type": "markdown",
   "id": "ef191bb3",
   "metadata": {},
   "source": [
    ">now, we can see the outputs of the values stored in the variables by printing them!"
   ]
  },
  {
   "cell_type": "markdown",
   "id": "f4fcbf9b",
   "metadata": {},
   "source": [
    "#### 🔑Key Concept: Data Types"
   ]
  },
  {
   "cell_type": "markdown",
   "id": "1b4a6a4d",
   "metadata": {},
   "source": []
  }
 ],
 "metadata": {
  "kernelspec": {
   "display_name": "Python 3",
   "language": "python",
   "name": "python3"
  },
  "language_info": {
   "codemirror_mode": {
    "name": "ipython",
    "version": 3
   },
   "file_extension": ".py",
   "mimetype": "text/x-python",
   "name": "python",
   "nbconvert_exporter": "python",
   "pygments_lexer": "ipython3",
   "version": "3.11.9"
  }
 },
 "nbformat": 4,
 "nbformat_minor": 5
}
