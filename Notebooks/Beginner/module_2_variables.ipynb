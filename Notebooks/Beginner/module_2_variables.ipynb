{
 "cells": [
  {
   "cell_type": "markdown",
   "id": "4b1cc603",
   "metadata": {},
   "source": [
    "<style>\n",
    "    table, th, td {\n",
    "        border: none;\n",
    "        border-collapse: collapse;\n",
    "    }\n",
    "</style>\n",
    "<table align=\"center\">\n",
    "  <td align=\"center\">\n",
    "        <img height=\"80\" src=\"../../images/Python Namon2o.png\" style=\"padding-bottom:5px;\" />\n",
    "  </td>\n",
    "  <td align=\"center\"><a target=\"_blank\" href=\"https://colab.research.google.com/github/ahenkoraha/Python-Namon2o/blob/main/Notebooks/Beginner/module_2_variables.ipynb\">\n",
    "        <img height=\"40\" src=\"https://i.ibb.co/2P3SLwK/colab.png\"  style=\"padding-bottom:5px;\" />Run in Google Colab</a></td>\n",
    "\n",
    "</table>"
   ]
  },
  {
   "cell_type": "markdown",
   "id": "ed887b28",
   "metadata": {},
   "source": [
    "### 📘 Module 2: Variables & Data Types in Context\n",
    "\n",
    "#### 👋 Welcome to Python Namon2o!\n",
    "> A beginner-friendly Python tutorial with examples grounded in Ghanaian/African culture. \n",
    "In this module, you'll explore variables and basic data types using relatable African market examples.\n",
    "Variables allow us to store information like prices, quantities, and names for later use.\n",
    "\n",
    "#### 🎯 Objectives\n",
    "By the end of this module, you will:\n",
    "- Understand variables and how to assign them  \n",
    "- Learn basic data types: strings, integers, floats\n",
    "- Practice with relatable cultural scenarios\n",
    "- Discover common operations with these data types\n",
    "\n",
    "---"
   ]
  },
  {
   "cell_type": "code",
   "execution_count": null,
   "id": "88f672bd",
   "metadata": {},
   "outputs": [],
   "source": [
    "#run this code cell. use the play button or shift+enter\n",
    "print(\"Akwaaba! Let's visit the market today!\")"
   ]
  },
  {
   "cell_type": "markdown",
   "id": "e62c6a42",
   "metadata": {},
   "source": [
    "#### 🔑Key Concept: Variables\n",
    ">Variables are like containers that hold information. You can think of them as labeled boxes that store data you can use later. In Python, you create a variable by giving it a name and assigning it a value.\n",
    "\n",
    "Example: item_name = \"Plantain\"\n"
   ]
  },
  {
   "cell_type": "code",
   "execution_count": null,
   "id": "33e79720",
   "metadata": {},
   "outputs": [],
   "source": [
    "#run this code cell. use the play button or shift+enter\n",
    "#variable to store the name of the market\n",
    "market_name = \"Makola Market\"\n",
    "item_name = \"Plantain\"\n",
    "item_count = 1"
   ]
  },
  {
   "cell_type": "markdown",
   "id": "3037ba09",
   "metadata": {},
   "source": [
    "> Notice how we use the equals sign `=` to assign a value to a variable. The variable name is on the left, and the value is on the right. Variable names can only contain letters, numbers, and underscores? They cannot start with a number and should not contain spaces or special characters.\n",
    "\n",
    ">Did you also notice that the code in the previous example did not display any output? In Python, if you want to see the value of a variable, you need to use the `print()` function."
   ]
  },
  {
   "cell_type": "code",
   "execution_count": null,
   "id": "0c90ecdd",
   "metadata": {},
   "outputs": [],
   "source": [
    "#run this code cell. use the play button or shift+enter\n",
    "print(market_name)\n",
    "print(item_name)\n",
    "print(item_count)"
   ]
  },
  {
   "cell_type": "markdown",
   "id": "ef191bb3",
   "metadata": {},
   "source": [
    ">now, we can see the outputs of the values stored in the variables by printing them!"
   ]
  },
  {
   "cell_type": "markdown",
   "id": "f4fcbf9b",
   "metadata": {},
   "source": [
    "#### 🔑Key Concept: Data Types\n",
    ">Data types tell us what kind of data a variable holds. In Python, there are several basic data types, but we'll focus on three common ones:\n",
    "1. **Strings**: Text data, like names or descriptions. Strings are enclosed in quotes.\n",
    "   - Example 1: `item_name = \"Plantain\"`\n",
    "   - Example 2: `market_name = 'Makola Market'`\n",
    "2. **Integers**: Whole numbers, like quantities or counts. They do not have decimal points.\n",
    "    - Example 1: `quantity = 10`\n",
    "3. **Floats**: Decimal numbers, used for prices or measurements that require precision.\n",
    "   - Example 1: `total_price = 12.50`"
   ]
  },
  {
   "cell_type": "code",
   "execution_count": null,
   "id": "7af80641",
   "metadata": {},
   "outputs": [],
   "source": [
    "#run this code cell. use the play button or shift+enter\n",
    "#variable for an item name (String)\n",
    "item_name = \"Onions\"\n",
    "\n",
    "#variable for an quantity (Integer)\n",
    "quantity = 5\n",
    "\n",
    "#variable price per item (Float)\n",
    "price_per_item = 2.5\n",
    "\n",
    "#print the item name, quantity and price per item\n",
    "print(\"Item Name:\", item_name)  \n",
    "print(\"Quantity:\", quantity)\n",
    "print(\"Price per item:\", price_per_item)"
   ]
  },
  {
   "cell_type": "markdown",
   "id": "1b4a6a4d",
   "metadata": {},
   "source": [
    "#### 🔢 Common Operations Explained\n",
    "> You can perform various operations with these data types. Here are some common ones:\n",
    "1. **Addition**: Combining numbers.\n",
    "   - Example: `total_price = 12.50 + 5.00` (This adds two prices together)\n",
    "\n",
    "    **Note**: In Python, you can also add strings together, which is called concatenation.\n",
    "   - Example: `full_name = \"Adwoa\" + \" \" + \"Adom\" ` (This combines two strings with a space in between)\n",
    "2. **Division**: Splitting a quantity into equal parts.\n",
    "   - Example: `half_price = price / 2` (This calculates half the price of an item)\n",
    "3. **Multiplication**: Repeating a quantity.\n",
    "   - Example: `total_cost = price * quantity` (This calculates the total cost of multiple items)\n",
    "\n",
    "   **Note**: You can also multiply strings, which repeats the string.\n",
    "   - Example: `repeated_name = \"Kwabena\" * 3` (This repeats the string \"Kwabena\" three times)\n",
    "4. **Subtraction**: Finding the difference between two numbers.\n",
    "   - Example: `change = amount_paid - total_price` (This calculates the change after a purchase)\n"
   ]
  },
  {
   "cell_type": "code",
   "execution_count": 2,
   "id": "46924d4b",
   "metadata": {},
   "outputs": [],
   "source": [
    "#run this code cell. use the play button or shift+enter\n",
    "#Let's increase the price of the item by 1 cedi\n",
    "price_per_item = price_per_item + 1\n",
    "\n",
    "#Let's calculate a 50% discount on the item\n",
    "discount = price_per_item / 2\n",
    "\n",
    "#Let's add additional information to the item name \n",
    "# to show it is discounted\n",
    "item_name = item_name + \" (Discounted)\"\n",
    "\n",
    "#Let's calculate the total price before discount\n",
    "total_price = quantity * price_per_item\n",
    "\n",
    "#Let's calculate the total price after discount\n",
    "total_price_after_discount = total_price - discount"
   ]
  },
  {
   "cell_type": "code",
   "execution_count": null,
   "id": "8188c2bf",
   "metadata": {},
   "outputs": [],
   "source": [
    "#Let's print the expense information\n",
    "print(\"Expense Information:\")\n",
    "print(\"-\" *30)\n",
    "print(\"Item Name:\", item_name)\n",
    "print(\"Quantity:\", quantity)\n",
    "print(\"Price per item: GH₵\", price_per_item)\n",
    "print(\"Total Price before discount: GH₵\", total_price)\n",
    "print(\"Discount: GH₵\", discount)    \n",
    "print(\"Total Price after discount: GH₵\", total_price_after_discount)"
   ]
  },
  {
   "cell_type": "code",
   "execution_count": null,
   "id": "f36640ef",
   "metadata": {},
   "outputs": [],
   "source": []
  }
 ],
 "metadata": {
  "kernelspec": {
   "display_name": "Python 3",
   "language": "python",
   "name": "python3"
  },
  "language_info": {
   "codemirror_mode": {
    "name": "ipython",
    "version": 3
   },
   "file_extension": ".py",
   "mimetype": "text/x-python",
   "name": "python",
   "nbconvert_exporter": "python",
   "pygments_lexer": "ipython3",
   "version": "3.11.9"
  }
 },
 "nbformat": 4,
 "nbformat_minor": 5
}
