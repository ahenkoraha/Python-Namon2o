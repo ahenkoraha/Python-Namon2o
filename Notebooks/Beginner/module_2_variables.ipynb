{
 "cells": [
  {
   "cell_type": "markdown",
   "id": "4b1cc603",
   "metadata": {},
   "source": [
    "<style>\n",
    "    table, th, td {\n",
    "        border: none;\n",
    "        border-collapse: collapse;\n",
    "    }\n",
    "</style>\n",
    "<table align=\"center\">\n",
    "  <td align=\"center\">\n",
    "        <img height=\"80\" src=\"../../images/Python Namon2o.png\" style=\"padding-bottom:5px;\" />\n",
    "  </td>\n",
    "  <td align=\"center\"><a target=\"_blank\" href=\"https://colab.research.google.com/github/ahenkoraha/Python-Namon2o/blob/main/Notebooks/Beginner/module_1_introduction.ipynb\">\n",
    "        <img height=\"40\" src=\"https://i.ibb.co/2P3SLwK/colab.png\"  style=\"padding-bottom:5px;\" />Run in Google Colab</a></td>\n",
    "\n",
    "</table>"
   ]
  },
  {
   "cell_type": "markdown",
   "id": "ed887b28",
   "metadata": {},
   "source": [
    "### 📘 Module 2: Variables & Data Types in Context\n",
    "\n",
    "#### 👋 Welcome to Python Namon2o!\n",
    "> A beginner-friendly Python tutorial with examples grounded in Ghanaian/African culture. \n",
    "In this module, you'll explore variables and basic data types using relatable African market examples.\n",
    "Variables allow us to store information like prices, quantities, and names for later use.\n",
    "\n",
    "#### 🎯 Objectives\n",
    "By the end of this module, you will:\n",
    "- Understand variables and how to assign them  \n",
    "- Learn basic data types: strings, integers, floats\n",
    "- Practice with relatable cultural scenarios\n"
   ]
  },
  {
   "cell_type": "markdown",
   "id": "b59570e8",
   "metadata": {},
   "source": []
  }
 ],
 "metadata": {
  "language_info": {
   "name": "python"
  }
 },
 "nbformat": 4,
 "nbformat_minor": 5
}
